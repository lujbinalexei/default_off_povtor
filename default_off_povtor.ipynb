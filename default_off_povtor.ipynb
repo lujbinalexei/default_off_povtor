{
 "cells": [
  {
   "cell_type": "code",
   "execution_count": 344,
   "metadata": {},
   "outputs": [],
   "source": [
    "import warnings\n",
    "warnings.filterwarnings('ignore')\n",
    "import pandas as pd\n",
    "import numpy as np\n",
    "from glob import glob\n",
    "from datetime import datetime as dt\n",
    "from sklearn.model_selection import train_test_split\n",
    "from sklearn.metrics import roc_auc_score\n",
    "from sklearn.linear_model import LogisticRegression"
   ]
  },
  {
   "cell_type": "code",
   "execution_count": 345,
   "metadata": {},
   "outputs": [
    {
     "name": "stdout",
     "output_type": "stream",
     "text": [
      "C:\\Users\\luzhbin.aleksey\\Desktop\\analytics\n",
      "positive: 11194\n",
      "negative: 1069\n",
      "alltogether: 12263\n"
     ]
    }
   ],
   "source": [
    "%cd C:\\Users\\luzhbin.aleksey\\Desktop\\analytics\n",
    "\n",
    "halfYear = pd.read_csv('halfYear.csv', sep = ';',\n",
    "                    names = ['Dog', 'LoanDate', 'Product', 'NumOfFinishedLoansBefore', 'Status', 'DaysOfOverdue'],\n",
    "                    skiprows = 1,\n",
    "                    encoding = 'cp1251')\n",
    "\n",
    "halfYear['OFF'] = list(map(lambda x: 'OFF' in x, halfYear.Dog))\n",
    "\n",
    "pstv_povtor_off = halfYear[(halfYear.OFF == True) & (halfYear.Status == 'Заем погашен') & (halfYear.DaysOfOverdue == 0)\\\n",
    "                                        & (halfYear.NumOfFinishedLoansBefore != 0)\\\n",
    "                                        & (halfYear.Product != 'Для сотрудников (ФМ) от 10500 от 29.01.2019')\\\n",
    "                                        & (halfYear.Product != 'Для сотрудников (ФМ) от 15500 от 29.01.2019')\\\n",
    "                                        & (halfYear.Product != 'Для сотрудников (ФМ) от 2000 от 29.01.2019')\\\n",
    "                                        & (halfYear.Product != 'Для сотрудников от 10 500 (ФМ) от 24.06.18')\\\n",
    "                                        & (halfYear.Product != 'Для сотрудников от 15 500 (ФМ) от 24.06.18')\\\n",
    "                                        & (halfYear.Product != 'Для сотрудников от 2 000 (ФМ) от 24.06.18')\\\n",
    "                                        & (halfYear.Product != 'ПСК ДОВЕРИЕ')]\n",
    "pstv_povtor_off['Default'] = 0\n",
    "\n",
    "ngtv_povtor_off = halfYear[(halfYear.OFF == True) & (halfYear.Status == 'Заем просрочен') & (halfYear.DaysOfOverdue > 30)\\\n",
    "                                        & (halfYear.NumOfFinishedLoansBefore != 0)\n",
    "                                        & (halfYear.Product != 'Для сотрудников от 10 500 (ФМ) от 24.06.18')\\\n",
    "                                        & (halfYear.Product != 'Для сотрудников от 15 500 (ФМ) от 24.06.18')]\n",
    "ngtv_povtor_off['Default'] = 1\n",
    "\n",
    "def_povtor_off = pstv_povtor_off.append(ngtv_povtor_off, ignore_index = True)\n",
    "def_povtor_off.drop(['LoanDate', 'Product', 'Status', 'OFF', 'DaysOfOverdue'], axis = 1, inplace = True)\n",
    "\n",
    "print('positive: {}'.format(def_povtor_off[def_povtor_off.Default == 0].shape[0]))\n",
    "print('negative: {}'.format(def_povtor_off[def_povtor_off.Default == 1].shape[0]))\n",
    "print('alltogether: {}'.format(def_povtor_off.shape[0]))"
   ]
  },
  {
   "cell_type": "code",
   "execution_count": 346,
   "metadata": {},
   "outputs": [
    {
     "name": "stdout",
     "output_type": "stream",
     "text": [
      "C:\\Users\\luzhbin.aleksey\\Desktop\\analytics\\zvk\n",
      "710960\n"
     ]
    }
   ],
   "source": [
    "%cd zvk\n",
    "path = glob('*.csv')\n",
    "\n",
    "zvk = pd.read_csv(path[0], sep = ';',\n",
    "                    skiprows = 1, decimal = ',',\n",
    "                    dtype = {'LoanSum': 'float'},\n",
    "                    names = ['Dog', 'DateDog', 'Region', 'ProductType', 'Product', 'Status', 'LoanSum', 'Duration',\n",
    "                             'Name', 'Gender', 'BD', 'NumOfLoansBefore', 'NumOfzvkBefore', 'NumOfLoansPayed'],\n",
    "                    usecols = [0, 1, 4, 6, 7, 8, 9, 10, 14, 16, 17, 27, 34, 37], encoding = 'cp1251')\n",
    "\n",
    "for i in range(1, len(path)):\n",
    "    tmp = pd.read_csv(path[i], sep = ';',\n",
    "                    skiprows = 1, decimal = ',',\n",
    "                    dtype = {'LoanSum': 'float'},\n",
    "                    names = ['Dog', 'DateDog', 'Region', 'ProductType', 'Product', 'Status', 'LoanSum', 'Duration',\n",
    "                             'Name', 'Gender', 'BD', 'NumOfLoansBefore', 'NumOfzvkBefore', 'NumOfLoansPayed'],\n",
    "                    usecols = [0, 1, 4, 6, 7, 8, 9, 10, 14, 16, 17, 27, 34, 37], encoding = 'cp1251')\n",
    "    zvk = zvk.append(tmp, ignore_index = True)\n",
    "\n",
    "zvk.drop(['DateDog', 'ProductType', 'Product', 'Status', 'Name', 'NumOfLoansBefore', 'NumOfLoansPayed'],\n",
    "                                                                                     axis = 1, inplace = True)\n",
    "print(zvk.shape[0])"
   ]
  },
  {
   "cell_type": "code",
   "execution_count": 347,
   "metadata": {},
   "outputs": [
    {
     "data": {
      "text/plain": [
       "12261"
      ]
     },
     "execution_count": 347,
     "metadata": {},
     "output_type": "execute_result"
    }
   ],
   "source": [
    "merged_def_povtor_off = pd.merge(left = def_povtor_off, right = zvk, left_on = 'Dog', right_on = 'Dog', how = 'left')\n",
    "merged_def_povtor_off.dropna(inplace = True)\n",
    "merged_def_povtor_off.shape[0]"
   ]
  },
  {
   "cell_type": "code",
   "execution_count": 348,
   "metadata": {},
   "outputs": [],
   "source": [
    "merged_def_povtor_off['Sum'] = 0\n",
    "\n",
    "merged_def_povtor_off.Sum.loc[(merged_def_povtor_off.LoanSum >= 2000)\\\n",
    "                              & (merged_def_povtor_off.LoanSum < 5000)] = '2000-5000'\n",
    "merged_def_povtor_off.Sum.loc[(merged_def_povtor_off.LoanSum >= 5000)\\\n",
    "                              & (merged_def_povtor_off.LoanSum < 10000)] = '5000-10000'\n",
    "merged_def_povtor_off.Sum.loc[(merged_def_povtor_off.LoanSum >= 10000)\\\n",
    "                              & (merged_def_povtor_off.LoanSum < 15000)] = '10000-15000'\n",
    "merged_def_povtor_off.Sum.loc[(merged_def_povtor_off.LoanSum >= 15000)\\\n",
    "                              & (merged_def_povtor_off.LoanSum < 20000)] = '15000-20000'\n",
    "merged_def_povtor_off.Sum.loc[(merged_def_povtor_off.LoanSum >= 20000)\\\n",
    "                              & (merged_def_povtor_off.LoanSum <= 30000)] = '20000-3000'"
   ]
  },
  {
   "cell_type": "code",
   "execution_count": 349,
   "metadata": {},
   "outputs": [],
   "source": [
    "merged_def_povtor_off['Age'] = list(map(lambda x: (dt.today() - dt.strptime(x, \"%Y-%m-%d\")).days // 365,\n",
    "                                        merged_def_povtor_off.BD.values))\n",
    "merged_def_povtor_off['Duration'] = list(map(int, merged_def_povtor_off.Duration.values))\n",
    "merged_def_povtor_off.drop(['BD', 'LoanSum'], axis = 1, inplace = True)"
   ]
  },
  {
   "cell_type": "code",
   "execution_count": 350,
   "metadata": {},
   "outputs": [
    {
     "name": "stdout",
     "output_type": "stream",
     "text": [
      "(12261, 96)\n"
     ]
    }
   ],
   "source": [
    "merged_def_povtor_off = merged_def_povtor_off.join(pd.get_dummies(merged_def_povtor_off[['Gender', 'Sum', 'Region']]),\n",
    "                                                   how ='left')\n",
    "print(merged_def_povtor_off.shape)"
   ]
  },
  {
   "cell_type": "code",
   "execution_count": 351,
   "metadata": {},
   "outputs": [
    {
     "data": {
      "text/html": [
       "<div>\n",
       "<style scoped>\n",
       "    .dataframe tbody tr th:only-of-type {\n",
       "        vertical-align: middle;\n",
       "    }\n",
       "\n",
       "    .dataframe tbody tr th {\n",
       "        vertical-align: top;\n",
       "    }\n",
       "\n",
       "    .dataframe thead th {\n",
       "        text-align: right;\n",
       "    }\n",
       "</style>\n",
       "<table border=\"1\" class=\"dataframe\">\n",
       "  <thead>\n",
       "    <tr style=\"text-align: right;\">\n",
       "      <th></th>\n",
       "      <th>NumOfFinishedLoansBefore</th>\n",
       "      <th>Duration</th>\n",
       "      <th>NumOfzvkBefore</th>\n",
       "      <th>Age</th>\n",
       "      <th>Gender_Женский</th>\n",
       "      <th>Gender_Мужской</th>\n",
       "      <th>Sum_10000-15000</th>\n",
       "      <th>Sum_15000-20000</th>\n",
       "      <th>Sum_2000-5000</th>\n",
       "      <th>Sum_20000-3000</th>\n",
       "      <th>...</th>\n",
       "      <th>Region_Хакасия</th>\n",
       "      <th>Region_Ханты-Мансийский</th>\n",
       "      <th>Region_Ханты-Мансийский Автономный округ - Югра</th>\n",
       "      <th>Region_Челябинская</th>\n",
       "      <th>Region_Читинская</th>\n",
       "      <th>Region_Чувашская</th>\n",
       "      <th>Region_Чувашская Республика -</th>\n",
       "      <th>Region_Ямало-Ненецкий</th>\n",
       "      <th>Region_Ярославская</th>\n",
       "      <th>Def</th>\n",
       "    </tr>\n",
       "  </thead>\n",
       "  <tbody>\n",
       "    <tr>\n",
       "      <th>0</th>\n",
       "      <td>7</td>\n",
       "      <td>16</td>\n",
       "      <td>7.0</td>\n",
       "      <td>37</td>\n",
       "      <td>1</td>\n",
       "      <td>0</td>\n",
       "      <td>0</td>\n",
       "      <td>0</td>\n",
       "      <td>1</td>\n",
       "      <td>0</td>\n",
       "      <td>...</td>\n",
       "      <td>0</td>\n",
       "      <td>0</td>\n",
       "      <td>0</td>\n",
       "      <td>0</td>\n",
       "      <td>0</td>\n",
       "      <td>0</td>\n",
       "      <td>0</td>\n",
       "      <td>0</td>\n",
       "      <td>0</td>\n",
       "      <td>0</td>\n",
       "    </tr>\n",
       "    <tr>\n",
       "      <th>1</th>\n",
       "      <td>19</td>\n",
       "      <td>29</td>\n",
       "      <td>19.0</td>\n",
       "      <td>69</td>\n",
       "      <td>1</td>\n",
       "      <td>0</td>\n",
       "      <td>1</td>\n",
       "      <td>0</td>\n",
       "      <td>0</td>\n",
       "      <td>0</td>\n",
       "      <td>...</td>\n",
       "      <td>0</td>\n",
       "      <td>0</td>\n",
       "      <td>0</td>\n",
       "      <td>0</td>\n",
       "      <td>0</td>\n",
       "      <td>0</td>\n",
       "      <td>0</td>\n",
       "      <td>0</td>\n",
       "      <td>0</td>\n",
       "      <td>0</td>\n",
       "    </tr>\n",
       "    <tr>\n",
       "      <th>2</th>\n",
       "      <td>7</td>\n",
       "      <td>31</td>\n",
       "      <td>11.0</td>\n",
       "      <td>53</td>\n",
       "      <td>1</td>\n",
       "      <td>0</td>\n",
       "      <td>0</td>\n",
       "      <td>0</td>\n",
       "      <td>0</td>\n",
       "      <td>1</td>\n",
       "      <td>...</td>\n",
       "      <td>0</td>\n",
       "      <td>0</td>\n",
       "      <td>0</td>\n",
       "      <td>0</td>\n",
       "      <td>0</td>\n",
       "      <td>0</td>\n",
       "      <td>0</td>\n",
       "      <td>0</td>\n",
       "      <td>0</td>\n",
       "      <td>0</td>\n",
       "    </tr>\n",
       "    <tr>\n",
       "      <th>3</th>\n",
       "      <td>1</td>\n",
       "      <td>29</td>\n",
       "      <td>2.0</td>\n",
       "      <td>60</td>\n",
       "      <td>1</td>\n",
       "      <td>0</td>\n",
       "      <td>0</td>\n",
       "      <td>0</td>\n",
       "      <td>1</td>\n",
       "      <td>0</td>\n",
       "      <td>...</td>\n",
       "      <td>0</td>\n",
       "      <td>0</td>\n",
       "      <td>0</td>\n",
       "      <td>0</td>\n",
       "      <td>0</td>\n",
       "      <td>0</td>\n",
       "      <td>0</td>\n",
       "      <td>0</td>\n",
       "      <td>0</td>\n",
       "      <td>0</td>\n",
       "    </tr>\n",
       "    <tr>\n",
       "      <th>4</th>\n",
       "      <td>4</td>\n",
       "      <td>16</td>\n",
       "      <td>4.0</td>\n",
       "      <td>41</td>\n",
       "      <td>1</td>\n",
       "      <td>0</td>\n",
       "      <td>0</td>\n",
       "      <td>0</td>\n",
       "      <td>0</td>\n",
       "      <td>0</td>\n",
       "      <td>...</td>\n",
       "      <td>0</td>\n",
       "      <td>0</td>\n",
       "      <td>0</td>\n",
       "      <td>0</td>\n",
       "      <td>0</td>\n",
       "      <td>0</td>\n",
       "      <td>0</td>\n",
       "      <td>0</td>\n",
       "      <td>0</td>\n",
       "      <td>0</td>\n",
       "    </tr>\n",
       "  </tbody>\n",
       "</table>\n",
       "<p>5 rows × 92 columns</p>\n",
       "</div>"
      ],
      "text/plain": [
       "   NumOfFinishedLoansBefore  Duration  NumOfzvkBefore  Age  Gender_Женский  \\\n",
       "0                         7        16             7.0   37               1   \n",
       "1                        19        29            19.0   69               1   \n",
       "2                         7        31            11.0   53               1   \n",
       "3                         1        29             2.0   60               1   \n",
       "4                         4        16             4.0   41               1   \n",
       "\n",
       "   Gender_Мужской  Sum_10000-15000  Sum_15000-20000  Sum_2000-5000  \\\n",
       "0               0                0                0              1   \n",
       "1               0                1                0              0   \n",
       "2               0                0                0              0   \n",
       "3               0                0                0              1   \n",
       "4               0                0                0              0   \n",
       "\n",
       "   Sum_20000-3000  ...  Region_Хакасия  Region_Ханты-Мансийский  \\\n",
       "0               0  ...               0                        0   \n",
       "1               0  ...               0                        0   \n",
       "2               1  ...               0                        0   \n",
       "3               0  ...               0                        0   \n",
       "4               0  ...               0                        0   \n",
       "\n",
       "   Region_Ханты-Мансийский Автономный округ - Югра  Region_Челябинская  \\\n",
       "0                                                0                   0   \n",
       "1                                                0                   0   \n",
       "2                                                0                   0   \n",
       "3                                                0                   0   \n",
       "4                                                0                   0   \n",
       "\n",
       "   Region_Читинская  Region_Чувашская  Region_Чувашская Республика -  \\\n",
       "0                 0                 0                              0   \n",
       "1                 0                 0                              0   \n",
       "2                 0                 0                              0   \n",
       "3                 0                 0                              0   \n",
       "4                 0                 0                              0   \n",
       "\n",
       "   Region_Ямало-Ненецкий  Region_Ярославская  Def  \n",
       "0                      0                   0    0  \n",
       "1                      0                   0    0  \n",
       "2                      0                   0    0  \n",
       "3                      0                   0    0  \n",
       "4                      0                   0    0  \n",
       "\n",
       "[5 rows x 92 columns]"
      ]
     },
     "execution_count": 351,
     "metadata": {},
     "output_type": "execute_result"
    }
   ],
   "source": [
    "merged_def_povtor_off['Def'] = merged_def_povtor_off.Default\n",
    "merged_def_povtor_off.drop(['Dog', 'Default', 'Gender', 'Sum', 'Region'], axis = 1, inplace = True)\n",
    "merged_def_povtor_off[:5]"
   ]
  },
  {
   "cell_type": "code",
   "execution_count": 352,
   "metadata": {},
   "outputs": [],
   "source": [
    "X = merged_def_povtor_off.iloc[:, :-1].values\n",
    "y = merged_def_povtor_off.iloc[:, -1].values"
   ]
  },
  {
   "cell_type": "code",
   "execution_count": 353,
   "metadata": {},
   "outputs": [],
   "source": [
    "X_train, X_test, y_train, y_test = train_test_split(X, y, stratify = y, random_state = 42)"
   ]
  },
  {
   "cell_type": "code",
   "execution_count": 354,
   "metadata": {},
   "outputs": [],
   "source": [
    "clf = LogisticRegression(penalty='l1').fit(X_train, y_train)"
   ]
  },
  {
   "cell_type": "code",
   "execution_count": 356,
   "metadata": {},
   "outputs": [
    {
     "name": "stdout",
     "output_type": "stream",
     "text": [
      "Значение метрики качества модели: 0.77\n"
     ]
    }
   ],
   "source": [
    "print('Значение метрики качества модели: {:.2f}'.format(roc_auc_score(y_test, clf.predict_proba(X_test)[:, 1])))"
   ]
  },
  {
   "cell_type": "code",
   "execution_count": null,
   "metadata": {},
   "outputs": [],
   "source": []
  }
 ],
 "metadata": {
  "kernelspec": {
   "display_name": "Python 3",
   "language": "python",
   "name": "python3"
  },
  "language_info": {
   "codemirror_mode": {
    "name": "ipython",
    "version": 3
   },
   "file_extension": ".py",
   "mimetype": "text/x-python",
   "name": "python",
   "nbconvert_exporter": "python",
   "pygments_lexer": "ipython3",
   "version": "3.7.3"
  }
 },
 "nbformat": 4,
 "nbformat_minor": 2
}
